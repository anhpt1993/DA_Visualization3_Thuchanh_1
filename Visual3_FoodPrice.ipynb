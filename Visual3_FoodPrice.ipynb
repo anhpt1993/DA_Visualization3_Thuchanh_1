{
 "cells": [
  {
   "cell_type": "markdown",
   "id": "fc8053e6-99bf-442c-9995-c3d441db85cb",
   "metadata": {},
   "source": [
    "# 0. Khai báo các thư viện cần thiết"
   ]
  },
  {
   "cell_type": "code",
   "execution_count": 1,
   "id": "007161ce-da82-4bfa-bc26-86e79e177207",
   "metadata": {},
   "outputs": [],
   "source": [
    "import pandas as pd\n",
    "import seaborn as sns"
   ]
  },
  {
   "cell_type": "markdown",
   "id": "8a01c4bb-a6e2-436f-9bb2-f8f529823ee3",
   "metadata": {},
   "source": [
    "# 1. Đọc dữ liệu từ file CSV"
   ]
  },
  {
   "cell_type": "code",
   "execution_count": 2,
   "id": "b2dbbd39-c2d4-4e95-b340-8ec53dc0ff6b",
   "metadata": {},
   "outputs": [
    {
     "data": {
      "text/html": [
       "<div>\n",
       "<style scoped>\n",
       "    .dataframe tbody tr th:only-of-type {\n",
       "        vertical-align: middle;\n",
       "    }\n",
       "\n",
       "    .dataframe tbody tr th {\n",
       "        vertical-align: top;\n",
       "    }\n",
       "\n",
       "    .dataframe thead th {\n",
       "        text-align: right;\n",
       "    }\n",
       "</style>\n",
       "<table border=\"1\" class=\"dataframe\">\n",
       "  <thead>\n",
       "    <tr style=\"text-align: right;\">\n",
       "      <th></th>\n",
       "      <th>Place</th>\n",
       "      <th>ProductId</th>\n",
       "      <th>ProductName</th>\n",
       "      <th>UmId</th>\n",
       "      <th>UmName</th>\n",
       "      <th>Month</th>\n",
       "      <th>Year</th>\n",
       "      <th>Price</th>\n",
       "    </tr>\n",
       "  </thead>\n",
       "  <tbody>\n",
       "    <tr>\n",
       "      <th>0</th>\n",
       "      <td>National Average</td>\n",
       "      <td>52</td>\n",
       "      <td>Rice - Retail</td>\n",
       "      <td>5</td>\n",
       "      <td>KG</td>\n",
       "      <td>5</td>\n",
       "      <td>2013</td>\n",
       "      <td>4.4920</td>\n",
       "    </tr>\n",
       "    <tr>\n",
       "      <th>1</th>\n",
       "      <td>National Average</td>\n",
       "      <td>52</td>\n",
       "      <td>Rice - Retail</td>\n",
       "      <td>5</td>\n",
       "      <td>KG</td>\n",
       "      <td>6</td>\n",
       "      <td>2013</td>\n",
       "      <td>4.5786</td>\n",
       "    </tr>\n",
       "    <tr>\n",
       "      <th>2</th>\n",
       "      <td>National Average</td>\n",
       "      <td>52</td>\n",
       "      <td>Rice - Retail</td>\n",
       "      <td>5</td>\n",
       "      <td>KG</td>\n",
       "      <td>11</td>\n",
       "      <td>2013</td>\n",
       "      <td>4.7865</td>\n",
       "    </tr>\n",
       "    <tr>\n",
       "      <th>3</th>\n",
       "      <td>National Average</td>\n",
       "      <td>52</td>\n",
       "      <td>Rice - Retail</td>\n",
       "      <td>5</td>\n",
       "      <td>KG</td>\n",
       "      <td>12</td>\n",
       "      <td>2013</td>\n",
       "      <td>5.1337</td>\n",
       "    </tr>\n",
       "    <tr>\n",
       "      <th>4</th>\n",
       "      <td>National Average</td>\n",
       "      <td>52</td>\n",
       "      <td>Rice - Retail</td>\n",
       "      <td>5</td>\n",
       "      <td>KG</td>\n",
       "      <td>1</td>\n",
       "      <td>2014</td>\n",
       "      <td>5.5099</td>\n",
       "    </tr>\n",
       "  </tbody>\n",
       "</table>\n",
       "</div>"
      ],
      "text/plain": [
       "              Place  ProductId    ProductName  UmId UmName  Month  Year  \\\n",
       "0  National Average         52  Rice - Retail     5     KG      5  2013   \n",
       "1  National Average         52  Rice - Retail     5     KG      6  2013   \n",
       "2  National Average         52  Rice - Retail     5     KG     11  2013   \n",
       "3  National Average         52  Rice - Retail     5     KG     12  2013   \n",
       "4  National Average         52  Rice - Retail     5     KG      1  2014   \n",
       "\n",
       "    Price  \n",
       "0  4.4920  \n",
       "1  4.5786  \n",
       "2  4.7865  \n",
       "3  5.1337  \n",
       "4  5.5099  "
      ]
     },
     "execution_count": 2,
     "metadata": {},
     "output_type": "execute_result"
    }
   ],
   "source": [
    "df = pd.read_csv(\"https://s3.ap-southeast-1.amazonaws.com/learn.codegym.vn/media/public/2021/12/31021019/FoodPrice_in_Turkey.csv\", encoding = \"ISO-8859-1\")\n",
    "df.head()"
   ]
  },
  {
   "cell_type": "code",
   "execution_count": 3,
   "id": "e5b8622e-7d4c-4a51-ae8d-50e7cbdefc53",
   "metadata": {},
   "outputs": [
    {
     "name": "stdout",
     "output_type": "stream",
     "text": [
      "<class 'pandas.core.frame.DataFrame'>\n",
      "RangeIndex: 7381 entries, 0 to 7380\n",
      "Data columns (total 8 columns):\n",
      " #   Column       Non-Null Count  Dtype  \n",
      "---  ------       --------------  -----  \n",
      " 0   Place        7381 non-null   object \n",
      " 1   ProductId    7381 non-null   int64  \n",
      " 2   ProductName  7381 non-null   object \n",
      " 3   UmId         7381 non-null   int64  \n",
      " 4   UmName       7381 non-null   object \n",
      " 5   Month        7381 non-null   int64  \n",
      " 6   Year         7381 non-null   int64  \n",
      " 7   Price        7381 non-null   float64\n",
      "dtypes: float64(1), int64(4), object(3)\n",
      "memory usage: 461.4+ KB\n"
     ]
    }
   ],
   "source": [
    "df.info()"
   ]
  },
  {
   "cell_type": "code",
   "execution_count": 4,
   "id": "ec05c371-13a3-476b-86d3-215171a8a817",
   "metadata": {},
   "outputs": [
    {
     "data": {
      "text/plain": [
       "count    7381.000000\n",
       "mean       15.738709\n",
       "std        22.418284\n",
       "min         0.253900\n",
       "25%         3.223600\n",
       "50%         5.909600\n",
       "75%        20.441900\n",
       "max       159.445800\n",
       "Name: Price, dtype: float64"
      ]
     },
     "execution_count": 4,
     "metadata": {},
     "output_type": "execute_result"
    }
   ],
   "source": [
    "df.Price.describe()"
   ]
  },
  {
   "cell_type": "markdown",
   "id": "12253c81-11c6-4581-9d60-ccf57b5f422e",
   "metadata": {},
   "source": [
    "# 2. Kiểm tra dữ liệu ngoại lai"
   ]
  },
  {
   "cell_type": "code",
   "execution_count": 5,
   "id": "bed3a79c-f315-49f8-b405-80d3e489c94e",
   "metadata": {},
   "outputs": [
    {
     "data": {
      "text/plain": [
       "<AxesSubplot:xlabel='Price'>"
      ]
     },
     "execution_count": 5,
     "metadata": {},
     "output_type": "execute_result"
    },
    {
     "data": {
      "image/png": "[encoded data removed]",
      "text/plain": [
       "<Figure size 432x288 with 1 Axes>"
      ]
     },
     "metadata": {
      "needs_background": "light"
     },
     "output_type": "display_data"
    }
   ],
   "source": [
    "# Vẽ biểu đồ boxplot cho thuộc tính \"Price\"\n",
    "sns.boxplot(x = df.Price, data = df)"
   ]
  },
  {
   "cell_type": "code",
   "execution_count": 6,
   "id": "666299ec-1561-4e4f-b552-2f31e680546c",
   "metadata": {},
   "outputs": [],
   "source": [
    "df1 = df[(df.Price > 0) & (df.Price < 40)]"
   ]
  },
  {
   "cell_type": "code",
   "execution_count": 7,
   "id": "20bdb7d5-726b-4f63-a164-5ecf439171ed",
   "metadata": {},
   "outputs": [
    {
     "data": {
      "text/plain": [
       "<AxesSubplot:xlabel='Price', ylabel='Density'>"
      ]
     },
     "execution_count": 7,
     "metadata": {},
     "output_type": "execute_result"
    },
    {
     "data": {
      "image/png": "[encoded data removed]",
      "text/plain": [
       "<Figure size 432x288 with 1 Axes>"
      ]
     },
     "metadata": {
      "needs_background": "light"
     },
     "output_type": "display_data"
    }
   ],
   "source": [
    "# Vẽ lại biểu đồ phân bố\n",
    "sns.kdeplot(x = df1.Price, data = df1)"
   ]
  },
  {
   "cell_type": "markdown",
   "id": "63f0a75a-b8f5-495b-9d18-e4b124ecb940",
   "metadata": {},
   "source": [
    "# 3. Vẽ đồ thị"
   ]
  },
  {
   "cell_type": "markdown",
   "id": "b6160906-3e65-4158-a894-b04c50b02432",
   "metadata": {},
   "source": [
    "- 3.1. Biểu đồ xu hướng"
   ]
  },
  {
   "cell_type": "code",
   "execution_count": 8,
   "id": "cf967380-c381-472e-88ee-2d495ab63b55",
   "metadata": {},
   "outputs": [],
   "source": [
    "rice_df = df[df.ProductId == 52]"
   ]
  },
  {
   "cell_type": "code",
   "execution_count": 9,
   "id": "ae1ac5d6-75e6-454c-8ba8-b5b3007365d3",
   "metadata": {},
   "outputs": [
    {
     "name": "stdout",
     "output_type": "stream",
     "text": [
      "<class 'pandas.core.frame.DataFrame'>\n",
      "Int64Index: 174 entries, 0 to 5833\n",
      "Data columns (total 8 columns):\n",
      " #   Column       Non-Null Count  Dtype  \n",
      "---  ------       --------------  -----  \n",
      " 0   Place        174 non-null    object \n",
      " 1   ProductId    174 non-null    int64  \n",
      " 2   ProductName  174 non-null    object \n",
      " 3   UmId         174 non-null    int64  \n",
      " 4   UmName       174 non-null    object \n",
      " 5   Month        174 non-null    int64  \n",
      " 6   Year         174 non-null    int64  \n",
      " 7   Price        174 non-null    float64\n",
      "dtypes: float64(1), int64(4), object(3)\n",
      "memory usage: 12.2+ KB\n"
     ]
    }
   ],
   "source": [
    "rice_df.info()"
   ]
  },
  {
   "cell_type": "code",
   "execution_count": 11,
   "id": "e31cc997-f240-4be8-8c7f-3dc0a9423003",
   "metadata": {},
   "outputs": [
    {
     "data": {
      "text/plain": [
       "<seaborn.axisgrid.FacetGrid at 0x1a13d134580>"
      ]
     },
     "execution_count": 11,
     "metadata": {},
     "output_type": "execute_result"
    },
    {
     "data": {
      "image/png": "[encoded data removed]",
      "text/plain": [
       "<Figure size 360x360 with 1 Axes>"
      ]
     },
     "metadata": {
      "needs_background": "light"
     },
     "output_type": "display_data"
    }
   ],
   "source": [
    "# Vẽ biểu đồ xu hướng của sản phẩm gạo qua các năm\n",
    "sns.lmplot(x = \"Year\", y = \"Price\", data = rice_df)"
   ]
  },
  {
   "cell_type": "code",
   "execution_count": 12,
   "id": "e09afe85-13bc-4332-b720-73f0ccc8dde3",
   "metadata": {},
   "outputs": [
    {
     "data": {
      "text/plain": [
       "array(['Rice - Retail', 'Wheat flour - Retail', 'Beans (white) - Retail',\n",
       "       'Potatoes - Retail', 'Eggs - Retail', 'Meat (chicken) - Retail',\n",
       "       'Sugar - Retail', 'Garlic - Retail', 'Lentils - Retail',\n",
       "       'Pasta - Retail', 'Tomatoes - Retail',\n",
       "       'Groundnuts (shelled) - Retail', 'Bread (common) - Retail',\n",
       "       'Coffee - Retail', 'Onions - Retail', 'Tea (green) - Retail',\n",
       "       'Cabbage - Retail', 'Meat (mutton) - Retail',\n",
       "       'Oil (sunflower) - Retail', 'Salt - Retail',\n",
       "       'Coffee (instant) - Retail', 'Peas (green, dry) - Retail',\n",
       "       'Apples (red) - Retail', 'Cauliflower - Retail',\n",
       "       'Cucumbers (greenhouse) - Retail', 'Oil (olive) - Retail',\n",
       "       'Chickpeas - Retail', 'Bananas - Retail', 'Bulgur - Retail',\n",
       "       'Tea - Retail', 'Fuel (petrol-gasoline) - Retail',\n",
       "       'Transport (public) - Retail', 'Tomatoes (paste) - Retail',\n",
       "       'Fuel (gas) - Retail', 'Apples - Retail', 'Oranges - Retail',\n",
       "       'Yogurt - Retail', 'Bread (pita) - Retail', 'Cucumbers - Retail',\n",
       "       'Fish (fresh) - Retail', 'Spinach - Retail', 'Cheese - Retail',\n",
       "       'Meat (veal) - Retail', 'Eggplants - Retail',\n",
       "       'Milk (powder, infant formula) - Retail', 'Zucchini - Retail',\n",
       "       'Milk (pasteurized) - Retail',\n",
       "       'Wage (non-qualified labour, non-agricultural) - Retail',\n",
       "       'Electricity - Retail', 'Tea (herbal) - Retail', 'Water - Retail',\n",
       "       'Cocoa (powder) - Retail'], dtype=object)"
      ]
     },
     "execution_count": 12,
     "metadata": {},
     "output_type": "execute_result"
    }
   ],
   "source": [
    "# Lọc giá vận chuyển và giá gạo\n",
    "df.ProductName.unique()"
   ]
  },
  {
   "cell_type": "code",
   "execution_count": 13,
   "id": "8613113b-ce32-4d7d-8c60-845a8d942374",
   "metadata": {},
   "outputs": [
    {
     "data": {
      "text/html": [
       "<div>\n",
       "<style scoped>\n",
       "    .dataframe tbody tr th:only-of-type {\n",
       "        vertical-align: middle;\n",
       "    }\n",
       "\n",
       "    .dataframe tbody tr th {\n",
       "        vertical-align: top;\n",
       "    }\n",
       "\n",
       "    .dataframe thead th {\n",
       "        text-align: right;\n",
       "    }\n",
       "</style>\n",
       "<table border=\"1\" class=\"dataframe\">\n",
       "  <thead>\n",
       "    <tr style=\"text-align: right;\">\n",
       "      <th></th>\n",
       "      <th>Place</th>\n",
       "      <th>ProductId</th>\n",
       "      <th>ProductName</th>\n",
       "      <th>UmId</th>\n",
       "      <th>UmName</th>\n",
       "      <th>Month</th>\n",
       "      <th>Year</th>\n",
       "      <th>Price</th>\n",
       "    </tr>\n",
       "  </thead>\n",
       "  <tbody>\n",
       "    <tr>\n",
       "      <th>0</th>\n",
       "      <td>National Average</td>\n",
       "      <td>52</td>\n",
       "      <td>Rice - Retail</td>\n",
       "      <td>5</td>\n",
       "      <td>KG</td>\n",
       "      <td>5</td>\n",
       "      <td>2013</td>\n",
       "      <td>4.4920</td>\n",
       "    </tr>\n",
       "    <tr>\n",
       "      <th>1</th>\n",
       "      <td>National Average</td>\n",
       "      <td>52</td>\n",
       "      <td>Rice - Retail</td>\n",
       "      <td>5</td>\n",
       "      <td>KG</td>\n",
       "      <td>6</td>\n",
       "      <td>2013</td>\n",
       "      <td>4.5786</td>\n",
       "    </tr>\n",
       "    <tr>\n",
       "      <th>2</th>\n",
       "      <td>National Average</td>\n",
       "      <td>52</td>\n",
       "      <td>Rice - Retail</td>\n",
       "      <td>5</td>\n",
       "      <td>KG</td>\n",
       "      <td>11</td>\n",
       "      <td>2013</td>\n",
       "      <td>4.7865</td>\n",
       "    </tr>\n",
       "    <tr>\n",
       "      <th>3</th>\n",
       "      <td>National Average</td>\n",
       "      <td>52</td>\n",
       "      <td>Rice - Retail</td>\n",
       "      <td>5</td>\n",
       "      <td>KG</td>\n",
       "      <td>12</td>\n",
       "      <td>2013</td>\n",
       "      <td>5.1337</td>\n",
       "    </tr>\n",
       "    <tr>\n",
       "      <th>4</th>\n",
       "      <td>National Average</td>\n",
       "      <td>52</td>\n",
       "      <td>Rice - Retail</td>\n",
       "      <td>5</td>\n",
       "      <td>KG</td>\n",
       "      <td>1</td>\n",
       "      <td>2014</td>\n",
       "      <td>5.5099</td>\n",
       "    </tr>\n",
       "  </tbody>\n",
       "</table>\n",
       "</div>"
      ],
      "text/plain": [
       "              Place  ProductId    ProductName  UmId UmName  Month  Year  \\\n",
       "0  National Average         52  Rice - Retail     5     KG      5  2013   \n",
       "1  National Average         52  Rice - Retail     5     KG      6  2013   \n",
       "2  National Average         52  Rice - Retail     5     KG     11  2013   \n",
       "3  National Average         52  Rice - Retail     5     KG     12  2013   \n",
       "4  National Average         52  Rice - Retail     5     KG      1  2014   \n",
       "\n",
       "    Price  \n",
       "0  4.4920  \n",
       "1  4.5786  \n",
       "2  4.7865  \n",
       "3  5.1337  \n",
       "4  5.5099  "
      ]
     },
     "execution_count": 13,
     "metadata": {},
     "output_type": "execute_result"
    }
   ],
   "source": [
    "conditions = (df.ProductName == \"Rice - Retail\") | (df.ProductName == \"Transport (public) - Retail\")\n",
    "tran_df = df[conditions]\n",
    "tran_df.head()"
   ]
  },
  {
   "cell_type": "code",
   "execution_count": 14,
   "id": "41f2c05b-e916-4324-823f-de66c223e66b",
   "metadata": {},
   "outputs": [
    {
     "data": {
      "text/plain": [
       "<seaborn.axisgrid.FacetGrid at 0x1a13c32a7d0>"
      ]
     },
     "execution_count": 14,
     "metadata": {},
     "output_type": "execute_result"
    },
    {
     "data": {
      "image/png": "[encoded data removed]",
      "text/plain": [
       "<Figure size 521.75x360 with 1 Axes>"
      ]
     },
     "metadata": {
      "needs_background": "light"
     },
     "output_type": "display_data"
    }
   ],
   "source": [
    "sns.lmplot(x = \"Year\", y = \"Price\", hue = \"ProductName\", data = tran_df)"
   ]
  },
  {
   "cell_type": "markdown",
   "id": "2368e785-8f5a-4545-96c2-b0548f03e8d4",
   "metadata": {},
   "source": [
    "- 3.2. Biểu đồ phân bố Violin"
   ]
  },
  {
   "cell_type": "code",
   "execution_count": 15,
   "id": "c111db68-4b3b-46e8-b828-7fab4389a330",
   "metadata": {},
   "outputs": [
    {
     "data": {
      "text/plain": [
       "<AxesSubplot:ylabel='Price'>"
      ]
     },
     "execution_count": 15,
     "metadata": {},
     "output_type": "execute_result"
    },
    {
     "data": {
      "image/png": "[encoded data removed]",
      "text/plain": [
       "<Figure size 432x288 with 1 Axes>"
      ]
     },
     "metadata": {
      "needs_background": "light"
     },
     "output_type": "display_data"
    }
   ],
   "source": [
    "# Biểu đồ phân bố cho thuộc tính \"Price\"\n",
    "sns.violinplot(y = \"Price\", data = df)"
   ]
  },
  {
   "cell_type": "code",
   "execution_count": 16,
   "id": "a211ba83-afed-436e-ae91-2b1bcb7dd9d0",
   "metadata": {},
   "outputs": [
    {
     "data": {
      "text/plain": [
       "<AxesSubplot:ylabel='Year'>"
      ]
     },
     "execution_count": 16,
     "metadata": {},
     "output_type": "execute_result"
    },
    {
     "data": {
      "image/png": "[encoded data removed]",
      "text/plain": [
       "<Figure size 432x288 with 1 Axes>"
      ]
     },
     "metadata": {
      "needs_background": "light"
     },
     "output_type": "display_data"
    }
   ],
   "source": [
    "# Biểu đồ phân bố theo năm\n",
    "sns.violinplot(y = \"Year\", data = df)"
   ]
  },
  {
   "cell_type": "markdown",
   "id": "e2130103-a65a-48ba-adb4-7ef1063b5221",
   "metadata": {},
   "source": [
    "- 3.3. Vẽ biểu đồ tần số"
   ]
  },
  {
   "cell_type": "code",
   "execution_count": 17,
   "id": "c234ada6-142f-405f-b169-97ce3b6c0a29",
   "metadata": {},
   "outputs": [
    {
     "data": {
      "text/plain": [
       "<AxesSubplot:xlabel='Year', ylabel='count'>"
      ]
     },
     "execution_count": 17,
     "metadata": {},
     "output_type": "execute_result"
    },
    {
     "data": {
      "image/png": "[encoded data removed]",
      "text/plain": [
       "<Figure size 432x288 with 1 Axes>"
      ]
     },
     "metadata": {
      "needs_background": "light"
     },
     "output_type": "display_data"
    }
   ],
   "source": [
    "# Biểu đồ tần số cho các sản phẩm theo năm\n",
    "sns.countplot(x = \"Year\", data = df)"
   ]
  },
  {
   "cell_type": "code",
   "execution_count": 18,
   "id": "13c84eaf-6882-4e0f-a79a-db2bed3eecce",
   "metadata": {},
   "outputs": [
    {
     "data": {
      "text/plain": [
       "<AxesSubplot:xlabel='Place', ylabel='count'>"
      ]
     },
     "execution_count": 18,
     "metadata": {},
     "output_type": "execute_result"
    },
    {
     "data": {
      "image/png": "[encoded data removed]",
      "text/plain": [
       "<Figure size 432x288 with 1 Axes>"
      ]
     },
     "metadata": {
      "needs_background": "light"
     },
     "output_type": "display_data"
    }
   ],
   "source": [
    "# Thống kê sản phẩm theo địa điểm\n",
    "sns.countplot(x = \"Place\", data = df)"
   ]
  },
  {
   "cell_type": "code",
   "execution_count": 19,
   "id": "2c01d8b5-39c7-4303-8e11-6589196cae0c",
   "metadata": {},
   "outputs": [
    {
     "data": {
      "text/plain": [
       "<AxesSubplot:xlabel='Year', ylabel='count'>"
      ]
     },
     "execution_count": 19,
     "metadata": {},
     "output_type": "execute_result"
    },
    {
     "data": {
      "image/png": "[encoded data removed]",
      "text/plain": [
       "<Figure size 432x288 with 1 Axes>"
      ]
     },
     "metadata": {
      "needs_background": "light"
     },
     "output_type": "display_data"
    }
   ],
   "source": [
    "# Hiển thị quan hệ giữa số lượng theo năm được nhóm theo địa điểm\n",
    "sns.countplot(x = \"Year\", hue = \"Place\", data = df)"
   ]
  },
  {
   "cell_type": "markdown",
   "id": "5fbf0d01-313b-4176-b540-2154e7abca32",
   "metadata": {},
   "source": [
    "- 3.4. Biểu đồ boxplot"
   ]
  },
  {
   "cell_type": "code",
   "execution_count": 21,
   "id": "40c1d676-b426-48df-8805-849906946fc4",
   "metadata": {},
   "outputs": [
    {
     "data": {
      "text/plain": [
       "<AxesSubplot:xlabel='Price'>"
      ]
     },
     "execution_count": 21,
     "metadata": {},
     "output_type": "execute_result"
    },
    {
     "data": {
      "image/png": "[encoded data removed]",
      "text/plain": [
       "<Figure size 432x288 with 1 Axes>"
      ]
     },
     "metadata": {
      "needs_background": "light"
     },
     "output_type": "display_data"
    }
   ],
   "source": [
    "# Vẽ biểu đồ boxplot cho thuộc tính sản phẩm\n",
    "sns.boxplot(x = \"Price\", data = df1)"
   ]
  },
  {
   "cell_type": "code",
   "execution_count": 22,
   "id": "e6b00528-c995-4446-a3aa-3ee5dccd691a",
   "metadata": {},
   "outputs": [
    {
     "data": {
      "text/plain": [
       "<AxesSubplot:xlabel='Year', ylabel='Price'>"
      ]
     },
     "execution_count": 22,
     "metadata": {},
     "output_type": "execute_result"
    },
    {
     "data": {
      "image/png": "[encoded data removed]",
      "text/plain": [
       "<Figure size 432x288 with 1 Axes>"
      ]
     },
     "metadata": {
      "needs_background": "light"
     },
     "output_type": "display_data"
    }
   ],
   "source": [
    "# Vẽ biểu đồ boxplot giá sản phẩm phân bố theo năm\n",
    "sns.boxplot(x = \"Year\", y = \"Price\", data = df1)"
   ]
  }
 ],
 "metadata": {
  "kernelspec": {
   "display_name": "Python 3 (ipykernel)",
   "language": "python",
   "name": "python3"
  },
  "language_info": {
   "codemirror_mode": {
    "name": "ipython",
    "version": 3
   },
   "file_extension": ".py",
   "mimetype": "text/x-python",
   "name": "python",
   "nbconvert_exporter": "python",
   "pygments_lexer": "ipython3",
   "version": "3.10.1"
  }
 },
 "nbformat": 4,
 "nbformat_minor": 5
}
